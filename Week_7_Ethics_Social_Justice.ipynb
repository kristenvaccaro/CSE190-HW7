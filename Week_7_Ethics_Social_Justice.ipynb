{
  "nbformat": 4,
  "nbformat_minor": 0,
  "metadata": {
    "kernelspec": {
      "display_name": "Python 3",
      "language": "python",
      "name": "python3"
    },
    "language_info": {
      "codemirror_mode": {
        "name": "ipython",
        "version": 3
      },
      "file_extension": ".py",
      "mimetype": "text/x-python",
      "name": "python",
      "nbconvert_exporter": "python",
      "pygments_lexer": "ipython3",
      "version": "3.6.8"
    },
    "toc": {
      "base_numbering": 1,
      "nav_menu": {},
      "number_sections": false,
      "sideBar": false,
      "skip_h1_title": false,
      "title_cell": "Table of Contents",
      "title_sidebar": "Contents",
      "toc_cell": false,
      "toc_position": {},
      "toc_section_display": false,
      "toc_window_display": false
    },
    "colab": {
      "name": "Week_7_Ethics_Social_Justice.ipynb",
      "provenance": [],
      "collapsed_sections": []
    }
  },
  "cells": [
    {
      "cell_type": "markdown",
      "metadata": {
        "id": "8HhoaZMxrZXZ"
      },
      "source": [
        "# Ethics & Social Justice\n",
        "\n",
        "In this assignment you will think about how to deal with ethics & social justice issues from a computing perspective.  \n",
        "\n",
        "_Attach a pdf with your sketches. Please include annotations/descriptions for each sketch._"
      ]
    },
    {
      "cell_type": "markdown",
      "metadata": {
        "id": "nviFxr3-rZXj"
      },
      "source": [
        "## Part 1: Identify Real-life, Current Issues\n",
        "\n",
        "Find a news article discussing some recent, on-going, or near-future social justice issue or AI ethics issue. Some good sources for tech news include: [Wired](https://www.wired.com/story/china-personal-data-law-pipl/), [Engadget](https://www.engadget.com/european-parliament-facial-recognition-ban-ai-bias-165833826.html), [Gizmodo](https://gizmodo.com/35-secret-code-words-facebook-uses-to-talk-about-its-us-1847988690), [TechCrunch](https://techcrunch.com/2021/11/05/apple-and-amazon-ml-ai-leads-to-speak-on-accessibility-at-sight-tech-global-2021/), and [Vox](https://www.vox.com/recode/22761598/facebook-facial-recognition-meta). \n",
        "\n",
        "**Summarize the issue from the article in 1-3 sentences, making sure you capture: who is (or could be) harmed? how are they (or could they be) harmed?**\n",
        "\n",
        "*Your summary is worth two points.*\n",
        "\n",
        "## Part 2: Brainstorm Solutions\n",
        "\n",
        "**Sketch and describe two alternative systems that could help address the issue from the news article you selected. Each system should use a different approach to tackle the same issue.**\n",
        "\n",
        "*Each sketch is worth four points.*\n",
        "\n",
        "To receive full credit: \n",
        "\n",
        "1. Link to selected news article. \n",
        "2. Indicate the target audience or target user for your system.\n",
        "3. Clearly state your design goal(s). \n",
        "4. Indicate how your design addresses the ethics or social justice issue you selected (and relates to the news article you selected).\n",
        "5. Label your sketch.\n",
        "\n",
        "*If you are having trouble thinking of a solution, you could try using the four roles for computing laid out in Abebe et al.*\n"
      ]
    }
  ]
}